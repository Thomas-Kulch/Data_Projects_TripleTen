{
 "cells": [
  {
   "cell_type": "markdown",
   "id": "280a2801",
   "metadata": {},
   "source": [
    "# Sprint 2 Project - Thomas Kulch"
   ]
  },
  {
   "cell_type": "markdown",
   "id": "fc26a4dd",
   "metadata": {},
   "source": [
    "### In this project, I will be importing and working with data from Instacart in 2017. I will be cleaning up the data, and answering questions about it to give insights on the shopping habits of Instacart customers."
   ]
  },
  {
   "cell_type": "markdown",
   "id": "1a5eca9e",
   "metadata": {},
   "source": [
    "My goals for this project will be to improve on pandas and matplotlib concepts and work on writing comments and being clear and concise with my research"
   ]
  },
  {
   "cell_type": "code",
   "execution_count": 1,
   "id": "fbf1adab",
   "metadata": {},
   "outputs": [],
   "source": [
    "#library imports\n",
    "import pandas as pd\n",
    "import numpy as np\n",
    "from matplotlib import pyplot as plt"
   ]
  },
  {
   "cell_type": "markdown",
   "id": "33cc965d",
   "metadata": {},
   "source": [
    "Read in each file and call info() on each"
   ]
  },
  {
   "cell_type": "code",
   "execution_count": 2,
   "id": "ad36396d",
   "metadata": {},
   "outputs": [
    {
     "name": "stdout",
     "output_type": "stream",
     "text": [
      "<class 'pandas.core.frame.DataFrame'>\n",
      "RangeIndex: 4545007 entries, 0 to 4545006\n",
      "Data columns (total 4 columns):\n",
      " #   Column             Non-Null Count    Dtype  \n",
      "---  ------             --------------    -----  \n",
      " 0   order_id           4545007 non-null  int64  \n",
      " 1   product_id         4545007 non-null  int64  \n",
      " 2   add_to_cart_order  4544171 non-null  float64\n",
      " 3   reordered          4545007 non-null  int64  \n",
      "dtypes: float64(1), int64(3)\n",
      "memory usage: 138.7 MB\n"
     ]
    }
   ],
   "source": [
    "#order_products file. this is a larger file so need to call show_counts to get column counts\n",
    "op = pd.read_csv('/datasets/order_products.csv',sep=';')\n",
    "\n",
    "op.info(show_counts=True)"
   ]
  },
  {
   "cell_type": "code",
   "execution_count": 3,
   "id": "ad6a1efa",
   "metadata": {},
   "outputs": [
    {
     "name": "stdout",
     "output_type": "stream",
     "text": [
      "<class 'pandas.core.frame.DataFrame'>\n",
      "RangeIndex: 478967 entries, 0 to 478966\n",
      "Data columns (total 6 columns):\n",
      " #   Column                  Non-Null Count   Dtype  \n",
      "---  ------                  --------------   -----  \n",
      " 0   order_id                478967 non-null  int64  \n",
      " 1   user_id                 478967 non-null  int64  \n",
      " 2   order_number            478967 non-null  int64  \n",
      " 3   order_dow               478967 non-null  int64  \n",
      " 4   order_hour_of_day       478967 non-null  int64  \n",
      " 5   days_since_prior_order  450148 non-null  float64\n",
      "dtypes: float64(1), int64(5)\n",
      "memory usage: 21.9 MB\n"
     ]
    }
   ],
   "source": [
    "#instacart_orders file\n",
    "od = pd.read_csv('/datasets/instacart_orders.csv',sep=';')\n",
    "\n",
    "od.info()"
   ]
  },
  {
   "cell_type": "code",
   "execution_count": 4,
   "id": "5130e05e",
   "metadata": {},
   "outputs": [
    {
     "name": "stdout",
     "output_type": "stream",
     "text": [
      "<class 'pandas.core.frame.DataFrame'>\n",
      "RangeIndex: 49694 entries, 0 to 49693\n",
      "Data columns (total 4 columns):\n",
      " #   Column         Non-Null Count  Dtype \n",
      "---  ------         --------------  ----- \n",
      " 0   product_id     49694 non-null  int64 \n",
      " 1   product_name   48436 non-null  object\n",
      " 2   aisle_id       49694 non-null  int64 \n",
      " 3   department_id  49694 non-null  int64 \n",
      "dtypes: int64(3), object(1)\n",
      "memory usage: 1.5+ MB\n"
     ]
    }
   ],
   "source": [
    "#products file\n",
    "pt = pd.read_csv('/datasets/products.csv',sep=';')\n",
    "\n",
    "pt.info()"
   ]
  },
  {
   "cell_type": "code",
   "execution_count": 5,
   "id": "d8370c05",
   "metadata": {},
   "outputs": [
    {
     "name": "stdout",
     "output_type": "stream",
     "text": [
      "<class 'pandas.core.frame.DataFrame'>\n",
      "RangeIndex: 134 entries, 0 to 133\n",
      "Data columns (total 2 columns):\n",
      " #   Column    Non-Null Count  Dtype \n",
      "---  ------    --------------  ----- \n",
      " 0   aisle_id  134 non-null    int64 \n",
      " 1   aisle     134 non-null    object\n",
      "dtypes: int64(1), object(1)\n",
      "memory usage: 2.2+ KB\n"
     ]
    }
   ],
   "source": [
    "#aisles file\n",
    "ai = pd.read_csv('/datasets/aisles.csv',sep=';')\n",
    "\n",
    "ai.info()"
   ]
  },
  {
   "cell_type": "code",
   "execution_count": 6,
   "id": "59e2090f",
   "metadata": {},
   "outputs": [
    {
     "name": "stdout",
     "output_type": "stream",
     "text": [
      "<class 'pandas.core.frame.DataFrame'>\n",
      "RangeIndex: 21 entries, 0 to 20\n",
      "Data columns (total 2 columns):\n",
      " #   Column         Non-Null Count  Dtype \n",
      "---  ------         --------------  ----- \n",
      " 0   department_id  21 non-null     int64 \n",
      " 1   department     21 non-null     object\n",
      "dtypes: int64(1), object(1)\n",
      "memory usage: 464.0+ bytes\n"
     ]
    }
   ],
   "source": [
    "#departments file\n",
    "dpt = pd.read_csv('/datasets/departments.csv',sep=';')\n",
    "\n",
    "dpt.info()"
   ]
  },
  {
   "cell_type": "markdown",
   "id": "07357848-dc64-4156-9cc3-01ff4365226d",
   "metadata": {},
   "source": [
    "## Find and remove duplicate values (and describe why you make your choices)"
   ]
  },
  {
   "cell_type": "markdown",
   "id": "f179f0a9",
   "metadata": {},
   "source": [
    "### `orders` data frame"
   ]
  },
  {
   "cell_type": "code",
   "execution_count": 7,
   "id": "b99297a5-405a-463d-8535-9adc3da4ad74",
   "metadata": {},
   "outputs": [
    {
     "name": "stdout",
     "output_type": "stream",
     "text": [
      "15\n",
      "\n",
      "2125197    2\n",
      "1782114    2\n",
      "1286742    2\n",
      "391768     2\n",
      "1021560    2\n",
      "2232988    2\n",
      "408114     2\n",
      "2282673    2\n",
      "1919531    2\n",
      "2160484    2\n",
      "1918001    2\n",
      "794638     2\n",
      "1112182    2\n",
      "467134     2\n",
      "2845099    2\n",
      "2357032    1\n",
      "2175960    1\n",
      "1251124    1\n",
      "3352370    1\n",
      "249647     1\n",
      "Name: order_id, dtype: int64\n",
      "\n"
     ]
    },
    {
     "data": {
      "text/plain": [
       "order_id  user_id  order_number  order_dow  order_hour_of_day  days_since_prior_order\n",
       "1021560   53767    3             3          2                  9.0                       2\n",
       "467134    63189    21            3          2                  2.0                       2\n",
       "391768    57671    19            3          2                  10.0                      2\n",
       "2282673   86751    49            3          2                  2.0                       2\n",
       "408114    68324    4             3          2                  18.0                      2\n",
       "1918001   188546   14            3          2                  16.0                      2\n",
       "1286742   183220   48            3          2                  4.0                       2\n",
       "1112182   202304   84            3          2                  6.0                       2\n",
       "2845099   31189    11            3          2                  7.0                       2\n",
       "1919531   191501   32            3          2                  7.0                       2\n",
       "2125197   14050    48            3          2                  3.0                       2\n",
       "794638    50898    24            3          2                  2.0                       2\n",
       "2160484   107525   16            3          2                  30.0                      2\n",
       "2278962   188803   4             5          14                 0.0                       1\n",
       "2278951   83592    13            5          10                 7.0                       1\n",
       "dtype: int64"
      ]
     },
     "metadata": {},
     "output_type": "display_data"
    }
   ],
   "source": [
    "# Check for duplicated orders\n",
    "print(od['order_id'].duplicated().sum())\n",
    "print()\n",
    "print(od['order_id'].value_counts().head(20))\n",
    "print()\n",
    "display(od.value_counts().head(15))\n",
    "#There can't be implicit duplicates because these are all int/float data types"
   ]
  },
  {
   "cell_type": "code",
   "execution_count": 8,
   "id": "0d44de5d",
   "metadata": {},
   "outputs": [
    {
     "data": {
      "text/html": [
       "<div>\n",
       "<style scoped>\n",
       "    .dataframe tbody tr th:only-of-type {\n",
       "        vertical-align: middle;\n",
       "    }\n",
       "\n",
       "    .dataframe tbody tr th {\n",
       "        vertical-align: top;\n",
       "    }\n",
       "\n",
       "    .dataframe thead th {\n",
       "        text-align: right;\n",
       "    }\n",
       "</style>\n",
       "<table border=\"1\" class=\"dataframe\">\n",
       "  <thead>\n",
       "    <tr style=\"text-align: right;\">\n",
       "      <th></th>\n",
       "      <th>order_id</th>\n",
       "      <th>user_id</th>\n",
       "      <th>order_number</th>\n",
       "      <th>order_dow</th>\n",
       "      <th>order_hour_of_day</th>\n",
       "      <th>days_since_prior_order</th>\n",
       "    </tr>\n",
       "  </thead>\n",
       "  <tbody>\n",
       "    <tr>\n",
       "      <th>452265</th>\n",
       "      <td>191</td>\n",
       "      <td>176417</td>\n",
       "      <td>44</td>\n",
       "      <td>3</td>\n",
       "      <td>2</td>\n",
       "      <td>6.0</td>\n",
       "    </tr>\n",
       "    <tr>\n",
       "      <th>468324</th>\n",
       "      <td>222962</td>\n",
       "      <td>54979</td>\n",
       "      <td>59</td>\n",
       "      <td>3</td>\n",
       "      <td>2</td>\n",
       "      <td>3.0</td>\n",
       "    </tr>\n",
       "    <tr>\n",
       "      <th>247867</th>\n",
       "      <td>238782</td>\n",
       "      <td>196224</td>\n",
       "      <td>6</td>\n",
       "      <td>3</td>\n",
       "      <td>2</td>\n",
       "      <td>3.0</td>\n",
       "    </tr>\n",
       "    <tr>\n",
       "      <th>417106</th>\n",
       "      <td>248760</td>\n",
       "      <td>204961</td>\n",
       "      <td>25</td>\n",
       "      <td>3</td>\n",
       "      <td>2</td>\n",
       "      <td>15.0</td>\n",
       "    </tr>\n",
       "    <tr>\n",
       "      <th>328565</th>\n",
       "      <td>264348</td>\n",
       "      <td>34806</td>\n",
       "      <td>6</td>\n",
       "      <td>3</td>\n",
       "      <td>2</td>\n",
       "      <td>5.0</td>\n",
       "    </tr>\n",
       "    <tr>\n",
       "      <th>316583</th>\n",
       "      <td>272079</td>\n",
       "      <td>121263</td>\n",
       "      <td>7</td>\n",
       "      <td>3</td>\n",
       "      <td>2</td>\n",
       "      <td>3.0</td>\n",
       "    </tr>\n",
       "    <tr>\n",
       "      <th>210068</th>\n",
       "      <td>284770</td>\n",
       "      <td>137352</td>\n",
       "      <td>7</td>\n",
       "      <td>3</td>\n",
       "      <td>2</td>\n",
       "      <td>8.0</td>\n",
       "    </tr>\n",
       "    <tr>\n",
       "      <th>359625</th>\n",
       "      <td>332561</td>\n",
       "      <td>201301</td>\n",
       "      <td>1</td>\n",
       "      <td>3</td>\n",
       "      <td>2</td>\n",
       "      <td>NaN</td>\n",
       "    </tr>\n",
       "    <tr>\n",
       "      <th>195093</th>\n",
       "      <td>350018</td>\n",
       "      <td>142887</td>\n",
       "      <td>6</td>\n",
       "      <td>3</td>\n",
       "      <td>2</td>\n",
       "      <td>1.0</td>\n",
       "    </tr>\n",
       "    <tr>\n",
       "      <th>29129</th>\n",
       "      <td>353088</td>\n",
       "      <td>46038</td>\n",
       "      <td>4</td>\n",
       "      <td>3</td>\n",
       "      <td>2</td>\n",
       "      <td>11.0</td>\n",
       "    </tr>\n",
       "    <tr>\n",
       "      <th>18420</th>\n",
       "      <td>382357</td>\n",
       "      <td>120200</td>\n",
       "      <td>19</td>\n",
       "      <td>3</td>\n",
       "      <td>2</td>\n",
       "      <td>11.0</td>\n",
       "    </tr>\n",
       "    <tr>\n",
       "      <th>354993</th>\n",
       "      <td>391768</td>\n",
       "      <td>57671</td>\n",
       "      <td>19</td>\n",
       "      <td>3</td>\n",
       "      <td>2</td>\n",
       "      <td>10.0</td>\n",
       "    </tr>\n",
       "    <tr>\n",
       "      <th>371905</th>\n",
       "      <td>391768</td>\n",
       "      <td>57671</td>\n",
       "      <td>19</td>\n",
       "      <td>3</td>\n",
       "      <td>2</td>\n",
       "      <td>10.0</td>\n",
       "    </tr>\n",
       "    <tr>\n",
       "      <th>275163</th>\n",
       "      <td>401662</td>\n",
       "      <td>15693</td>\n",
       "      <td>2</td>\n",
       "      <td>3</td>\n",
       "      <td>2</td>\n",
       "      <td>29.0</td>\n",
       "    </tr>\n",
       "    <tr>\n",
       "      <th>188541</th>\n",
       "      <td>404972</td>\n",
       "      <td>144464</td>\n",
       "      <td>2</td>\n",
       "      <td>3</td>\n",
       "      <td>2</td>\n",
       "      <td>19.0</td>\n",
       "    </tr>\n",
       "    <tr>\n",
       "      <th>321100</th>\n",
       "      <td>408114</td>\n",
       "      <td>68324</td>\n",
       "      <td>4</td>\n",
       "      <td>3</td>\n",
       "      <td>2</td>\n",
       "      <td>18.0</td>\n",
       "    </tr>\n",
       "    <tr>\n",
       "      <th>119251</th>\n",
       "      <td>408114</td>\n",
       "      <td>68324</td>\n",
       "      <td>4</td>\n",
       "      <td>3</td>\n",
       "      <td>2</td>\n",
       "      <td>18.0</td>\n",
       "    </tr>\n",
       "    <tr>\n",
       "      <th>155154</th>\n",
       "      <td>449909</td>\n",
       "      <td>198005</td>\n",
       "      <td>19</td>\n",
       "      <td>3</td>\n",
       "      <td>2</td>\n",
       "      <td>30.0</td>\n",
       "    </tr>\n",
       "    <tr>\n",
       "      <th>394347</th>\n",
       "      <td>467134</td>\n",
       "      <td>63189</td>\n",
       "      <td>21</td>\n",
       "      <td>3</td>\n",
       "      <td>2</td>\n",
       "      <td>2.0</td>\n",
       "    </tr>\n",
       "    <tr>\n",
       "      <th>250626</th>\n",
       "      <td>467134</td>\n",
       "      <td>63189</td>\n",
       "      <td>21</td>\n",
       "      <td>3</td>\n",
       "      <td>2</td>\n",
       "      <td>2.0</td>\n",
       "    </tr>\n",
       "  </tbody>\n",
       "</table>\n",
       "</div>"
      ],
      "text/plain": [
       "        order_id  user_id  order_number  order_dow  order_hour_of_day  \\\n",
       "452265       191   176417            44          3                  2   \n",
       "468324    222962    54979            59          3                  2   \n",
       "247867    238782   196224             6          3                  2   \n",
       "417106    248760   204961            25          3                  2   \n",
       "328565    264348    34806             6          3                  2   \n",
       "316583    272079   121263             7          3                  2   \n",
       "210068    284770   137352             7          3                  2   \n",
       "359625    332561   201301             1          3                  2   \n",
       "195093    350018   142887             6          3                  2   \n",
       "29129     353088    46038             4          3                  2   \n",
       "18420     382357   120200            19          3                  2   \n",
       "354993    391768    57671            19          3                  2   \n",
       "371905    391768    57671            19          3                  2   \n",
       "275163    401662    15693             2          3                  2   \n",
       "188541    404972   144464             2          3                  2   \n",
       "321100    408114    68324             4          3                  2   \n",
       "119251    408114    68324             4          3                  2   \n",
       "155154    449909   198005            19          3                  2   \n",
       "394347    467134    63189            21          3                  2   \n",
       "250626    467134    63189            21          3                  2   \n",
       "\n",
       "        days_since_prior_order  \n",
       "452265                     6.0  \n",
       "468324                     3.0  \n",
       "247867                     3.0  \n",
       "417106                    15.0  \n",
       "328565                     5.0  \n",
       "316583                     3.0  \n",
       "210068                     8.0  \n",
       "359625                     NaN  \n",
       "195093                     1.0  \n",
       "29129                     11.0  \n",
       "18420                     11.0  \n",
       "354993                    10.0  \n",
       "371905                    10.0  \n",
       "275163                    29.0  \n",
       "188541                    19.0  \n",
       "321100                    18.0  \n",
       "119251                    18.0  \n",
       "155154                    30.0  \n",
       "394347                     2.0  \n",
       "250626                     2.0  "
      ]
     },
     "execution_count": 8,
     "metadata": {},
     "output_type": "execute_result"
    }
   ],
   "source": [
    "# Check for all orders placed Wednesday at 2:00 AM\n",
    "#Based on my value_counts check in the previous cell, I can see order_dow == 3 and order_hour_of_day == 2 contains all of the duplicates\n",
    "od_wed = od.loc[(od['order_dow']==3) & (od['order_hour_of_day']==2)]\n",
    "\n",
    "#checking the first 20 records of the Wednesday at 2am orders to confirm there are duplicates.\n",
    "od_wed.sort_values(by='order_id').head(20)"
   ]
  },
  {
   "cell_type": "code",
   "execution_count": 9,
   "id": "5eea4e05",
   "metadata": {},
   "outputs": [
    {
     "name": "stdout",
     "output_type": "stream",
     "text": [
      "        order_id  user_id  order_number  order_dow  order_hour_of_day  \\\n",
      "354993    391768    57671            19          3                  2   \n",
      "371905    391768    57671            19          3                  2   \n",
      "119251    408114    68324             4          3                  2   \n",
      "321100    408114    68324             4          3                  2   \n",
      "394347    467134    63189            21          3                  2   \n",
      "250626    467134    63189            21          3                  2   \n",
      "99462     794638    50898            24          3                  2   \n",
      "145574    794638    50898            24          3                  2   \n",
      "311713   1021560    53767             3          3                  2   \n",
      "242618   1021560    53767             3          3                  2   \n",
      "164581   1112182   202304            84          3                  2   \n",
      "273805   1112182   202304            84          3                  2   \n",
      "314427   1286742   183220            48          3                  2   \n",
      "411408   1286742   183220            48          3                  2   \n",
      "266232   1782114   106752             1          3                  2   \n",
      "200059   1782114   106752             1          3                  2   \n",
      "230807   1918001   188546            14          3                  2   \n",
      "30371    1918001   188546            14          3                  2   \n",
      "257934   1919531   191501            32          3                  2   \n",
      "323900   1919531   191501            32          3                  2   \n",
      "441599   2125197    14050            48          3                  2   \n",
      "204042   2125197    14050            48          3                  2   \n",
      "223105   2160484   107525            16          3                  2   \n",
      "215294   2160484   107525            16          3                  2   \n",
      "324868   2232988    82565             1          3                  2   \n",
      "345917   2232988    82565             1          3                  2   \n",
      "415163   2282673    86751            49          3                  2   \n",
      "259636   2282673    86751            49          3                  2   \n",
      "142258   2845099    31189            11          3                  2   \n",
      "284038   2845099    31189            11          3                  2   \n",
      "\n",
      "        days_since_prior_order  \n",
      "354993                    10.0  \n",
      "371905                    10.0  \n",
      "119251                    18.0  \n",
      "321100                    18.0  \n",
      "394347                     2.0  \n",
      "250626                     2.0  \n",
      "99462                      2.0  \n",
      "145574                     2.0  \n",
      "311713                     9.0  \n",
      "242618                     9.0  \n",
      "164581                     6.0  \n",
      "273805                     6.0  \n",
      "314427                     4.0  \n",
      "411408                     4.0  \n",
      "266232                     NaN  \n",
      "200059                     NaN  \n",
      "230807                    16.0  \n",
      "30371                     16.0  \n",
      "257934                     7.0  \n",
      "323900                     7.0  \n",
      "441599                     3.0  \n",
      "204042                     3.0  \n",
      "223105                    30.0  \n",
      "215294                    30.0  \n",
      "324868                     NaN  \n",
      "345917                     NaN  \n",
      "415163                     2.0  \n",
      "259636                     2.0  \n",
      "142258                     7.0  \n",
      "284038                     7.0  \n"
     ]
    }
   ],
   "source": [
    "#checking for all duplicate rows using duplicated()\n",
    "duplicates = od.duplicated(keep=False)\n",
    "duplicate_rows = od[duplicates]\n",
    "print(duplicate_rows.sort_values(by='order_id'))"
   ]
  },
  {
   "cell_type": "code",
   "execution_count": 10,
   "id": "480563c7",
   "metadata": {},
   "outputs": [],
   "source": [
    "# Remove duplicate orders\n",
    "od = od.drop_duplicates().reset_index(drop=True)"
   ]
  },
  {
   "cell_type": "code",
   "execution_count": 11,
   "id": "0b2396a2",
   "metadata": {},
   "outputs": [
    {
     "data": {
      "text/plain": [
       "0"
      ]
     },
     "execution_count": 11,
     "metadata": {},
     "output_type": "execute_result"
    }
   ],
   "source": [
    "# Double check for duplicate rows\n",
    "od.duplicated().sum()"
   ]
  },
  {
   "cell_type": "code",
   "execution_count": 12,
   "id": "f6113ef1",
   "metadata": {},
   "outputs": [
    {
     "name": "stdout",
     "output_type": "stream",
     "text": [
      "0\n"
     ]
    }
   ],
   "source": [
    "# Double check for duplicate order IDs only\n",
    "print(od['order_id'].duplicated().sum())\n",
    "\n",
    "#the duplicates in this dataframe have been removed"
   ]
  },
  {
   "cell_type": "markdown",
   "id": "45e6bc46",
   "metadata": {},
   "source": [
    "### `products` data frame"
   ]
  },
  {
   "cell_type": "code",
   "execution_count": 13,
   "id": "5f526b5b-8175-46fa-a0fd-441767d50e64",
   "metadata": {},
   "outputs": [
    {
     "name": "stdout",
     "output_type": "stream",
     "text": [
      "0\n"
     ]
    }
   ],
   "source": [
    "# Check for fully duplicate rows\n",
    "print(pt.duplicated().sum())"
   ]
  },
  {
   "cell_type": "code",
   "execution_count": 14,
   "id": "88daa4f4",
   "metadata": {},
   "outputs": [
    {
     "name": "stdout",
     "output_type": "stream",
     "text": [
      "0\n"
     ]
    }
   ],
   "source": [
    "# Check for just duplicate product IDs\n",
    "print(pt['product_id'].duplicated().sum())"
   ]
  },
  {
   "cell_type": "code",
   "execution_count": 15,
   "id": "c773f0bf",
   "metadata": {},
   "outputs": [
    {
     "data": {
      "text/plain": [
       "green tea with ginseng and honey                           3\n",
       "fruit cocktail in heavy syrup                              2\n",
       "albacore solid white tuna in water                         2\n",
       "apricot energy bar                                         2\n",
       "matzo ball mix                                             2\n",
       "                                                          ..\n",
       "natures's dairy-free creamer french vanilla unsweetened    1\n",
       "daily turmeric nutrient booster powder                     1\n",
       "organic italian seasoning                                  1\n",
       "orange chocolate beet smart cookies                        1\n",
       "crinkle cut french fried potatoes                          1\n",
       "Name: product_names_lower, Length: 48332, dtype: int64"
      ]
     },
     "execution_count": 15,
     "metadata": {},
     "output_type": "execute_result"
    }
   ],
   "source": [
    "# Check for just duplicate product names (convert names to lowercase to compare better)\n",
    "pt['product_names_lower'] = pt['product_name'].str.lower()\n",
    "pt['product_names_lower'].value_counts()\n",
    "#we can see here that there are implicit duplicates"
   ]
  },
  {
   "cell_type": "code",
   "execution_count": 16,
   "id": "01efd02e",
   "metadata": {},
   "outputs": [
    {
     "data": {
      "text/plain": [
       "green tea with ginseng and honey                           3\n",
       "fruit cocktail in heavy syrup                              2\n",
       "albacore solid white tuna in water                         2\n",
       "apricot energy bar                                         2\n",
       "matzo ball mix                                             2\n",
       "                                                          ..\n",
       "natures's dairy-free creamer french vanilla unsweetened    1\n",
       "daily turmeric nutrient booster powder                     1\n",
       "organic italian seasoning                                  1\n",
       "orange chocolate beet smart cookies                        1\n",
       "crinkle cut french fried potatoes                          1\n",
       "Name: product_names_lower, Length: 48332, dtype: int64"
      ]
     },
     "execution_count": 16,
     "metadata": {},
     "output_type": "execute_result"
    }
   ],
   "source": [
    "# Check for duplicate product names that aren't missing\n",
    "pt_copy = pt.copy()\n",
    "\n",
    "pt_copy = pt_copy.dropna(subset=['product_name'])\n",
    "\n",
    "pt_copy['product_names_lower'].value_counts()\n",
    "#same result as above"
   ]
  },
  {
   "cell_type": "markdown",
   "id": "60f30db1",
   "metadata": {},
   "source": [
    "### `departments` data frame"
   ]
  },
  {
   "cell_type": "code",
   "execution_count": 17,
   "id": "fb410ad4-0fbf-4b80-bb09-23fdea79afe3",
   "metadata": {},
   "outputs": [
    {
     "name": "stdout",
     "output_type": "stream",
     "text": [
      "0\n"
     ]
    }
   ],
   "source": [
    "#Checking for dupes in all of departments\n",
    "print(dpt.duplicated().sum())"
   ]
  },
  {
   "cell_type": "code",
   "execution_count": 18,
   "id": "332b12bb",
   "metadata": {},
   "outputs": [
    {
     "name": "stdout",
     "output_type": "stream",
     "text": [
      "0\n",
      "\n"
     ]
    },
    {
     "data": {
      "text/plain": [
       "beverages          1\n",
       "breakfast          1\n",
       "bulk               1\n",
       "snacks             1\n",
       "alcohol            1\n",
       "pets               1\n",
       "other              1\n",
       "produce            1\n",
       "babies             1\n",
       "international      1\n",
       "dry goods pasta    1\n",
       "bakery             1\n",
       "meat seafood       1\n",
       "deli               1\n",
       "canned goods       1\n",
       "personal care      1\n",
       "household          1\n",
       "dairy eggs         1\n",
       "pantry             1\n",
       "missing            1\n",
       "frozen             1\n",
       "Name: department_lower, dtype: int64"
      ]
     },
     "execution_count": 18,
     "metadata": {},
     "output_type": "execute_result"
    }
   ],
   "source": [
    "#Checking for dupes in the department name column as well as implicit dupes\n",
    "print(dpt['department'].duplicated().sum())\n",
    "print()\n",
    "dpt['department_lower'] = dpt['department'].str.lower()\n",
    "dpt['department_lower'].value_counts()\n",
    "#there are no duplicates of any kind in departments"
   ]
  },
  {
   "cell_type": "markdown",
   "id": "bd30d78e",
   "metadata": {},
   "source": []
  },
  {
   "cell_type": "markdown",
   "id": "889349c1",
   "metadata": {},
   "source": [
    "### `aisles` data frame"
   ]
  },
  {
   "cell_type": "code",
   "execution_count": 19,
   "id": "9da89fb9-4679-40f5-ad0d-c34df753a3f8",
   "metadata": {},
   "outputs": [
    {
     "name": "stdout",
     "output_type": "stream",
     "text": [
      "0\n"
     ]
    }
   ],
   "source": [
    "#Checking for dupes in all of aisles\n",
    "print(ai.duplicated().sum())"
   ]
  },
  {
   "cell_type": "code",
   "execution_count": 20,
   "id": "da7c2822",
   "metadata": {},
   "outputs": [
    {
     "name": "stdout",
     "output_type": "stream",
     "text": [
      "0\n",
      "\n"
     ]
    },
    {
     "data": {
      "text/plain": [
       "spreads                   1\n",
       "fresh dips tapenades      1\n",
       "oils vinegars             1\n",
       "tofu meat alternatives    1\n",
       "energy sports drinks      1\n",
       "                         ..\n",
       "breakfast bakery          1\n",
       "fruit vegetable snacks    1\n",
       "honeys syrups nectars     1\n",
       "soap                      1\n",
       "indian foods              1\n",
       "Name: aisle_lower, Length: 134, dtype: int64"
      ]
     },
     "execution_count": 20,
     "metadata": {},
     "output_type": "execute_result"
    }
   ],
   "source": [
    "#Checking for dupes in the aisle name column as well as implicit dupes\n",
    "print(ai['aisle'].duplicated().sum())\n",
    "print()\n",
    "ai['aisle_lower'] = ai['aisle'].str.lower()\n",
    "ai['aisle_lower'].value_counts()\n",
    "#there are no duplicates of any kind in aisles"
   ]
  },
  {
   "cell_type": "markdown",
   "id": "ac63826f",
   "metadata": {},
   "source": []
  },
  {
   "cell_type": "markdown",
   "id": "274cd06a",
   "metadata": {},
   "source": [
    "### `order_products` data frame"
   ]
  },
  {
   "cell_type": "code",
   "execution_count": 21,
   "id": "52326689-84a8-4b8f-a881-7c68780f62c9",
   "metadata": {},
   "outputs": [
    {
     "name": "stdout",
     "output_type": "stream",
     "text": [
      "0\n"
     ]
    }
   ],
   "source": [
    "# Check for fullly duplicate rows\n",
    "print(op.duplicated().sum())"
   ]
  },
  {
   "cell_type": "code",
   "execution_count": 22,
   "id": "7b861391",
   "metadata": {},
   "outputs": [
    {
     "name": "stdout",
     "output_type": "stream",
     "text": [
      "4094961\n",
      "4499434\n",
      "0\n"
     ]
    }
   ],
   "source": [
    "# Double check for any other tricky duplicates\n",
    "print(op['order_id'].duplicated().sum()) #this is fine because this does not house the entire order. there are multiple rows for each order\n",
    "print(op['product_id'].duplicated().sum()) #this is fine because people can order the same products twice\n",
    "\n",
    "\n",
    "op_tricky = op.duplicated(subset=['order_id','product_id']).sum()\n",
    "\n",
    "print(op_tricky) #looks like there are no duplicates in this dataframe"
   ]
  },
  {
   "cell_type": "markdown",
   "id": "1e46de76",
   "metadata": {},
   "source": [
    "## Find and remove missing values\n"
   ]
  },
  {
   "cell_type": "markdown",
   "id": "c0aebd78",
   "metadata": {},
   "source": [
    "### `products` data frame"
   ]
  },
  {
   "cell_type": "code",
   "execution_count": 23,
   "id": "fe4a8b0f",
   "metadata": {},
   "outputs": [
    {
     "name": "stdout",
     "output_type": "stream",
     "text": [
      "product_id                0\n",
      "product_name           1258\n",
      "aisle_id                  0\n",
      "department_id             0\n",
      "product_names_lower    1258\n",
      "dtype: int64\n"
     ]
    }
   ],
   "source": [
    "#Identify count of missing values\n",
    "print(pt.isna().sum())"
   ]
  },
  {
   "cell_type": "code",
   "execution_count": 24,
   "id": "e96167bc",
   "metadata": {},
   "outputs": [
    {
     "name": "stdout",
     "output_type": "stream",
     "text": [
      "1258\n"
     ]
    }
   ],
   "source": [
    "# Are all of the missing product names associated with aisle ID 100?\n",
    "print(pt[pt['aisle_id'].isin([100])]['product_name'].isna().sum())\n",
    "#all of the missing product_names fall under aisle 100"
   ]
  },
  {
   "cell_type": "code",
   "execution_count": 25,
   "id": "8fd0a541",
   "metadata": {},
   "outputs": [
    {
     "name": "stdout",
     "output_type": "stream",
     "text": [
      "1258\n"
     ]
    }
   ],
   "source": [
    "# Are all of the missing product names associated with department ID 21?\n",
    "print(pt[pt['department_id'].isin([21])]['product_name'].isna().sum())\n",
    "#all of the missing product_names also fall under department 21"
   ]
  },
  {
   "cell_type": "code",
   "execution_count": 26,
   "id": "325c3464",
   "metadata": {},
   "outputs": [
    {
     "data": {
      "text/html": [
       "<div>\n",
       "<style scoped>\n",
       "    .dataframe tbody tr th:only-of-type {\n",
       "        vertical-align: middle;\n",
       "    }\n",
       "\n",
       "    .dataframe tbody tr th {\n",
       "        vertical-align: top;\n",
       "    }\n",
       "\n",
       "    .dataframe thead th {\n",
       "        text-align: right;\n",
       "    }\n",
       "</style>\n",
       "<table border=\"1\" class=\"dataframe\">\n",
       "  <thead>\n",
       "    <tr style=\"text-align: right;\">\n",
       "      <th></th>\n",
       "      <th>product_id</th>\n",
       "      <th>product_name</th>\n",
       "      <th>aisle_id</th>\n",
       "      <th>department_id</th>\n",
       "      <th>product_names_lower</th>\n",
       "    </tr>\n",
       "  </thead>\n",
       "  <tbody>\n",
       "    <tr>\n",
       "      <th>37</th>\n",
       "      <td>38</td>\n",
       "      <td>NaN</td>\n",
       "      <td>100</td>\n",
       "      <td>21</td>\n",
       "      <td>NaN</td>\n",
       "    </tr>\n",
       "    <tr>\n",
       "      <th>71</th>\n",
       "      <td>72</td>\n",
       "      <td>NaN</td>\n",
       "      <td>100</td>\n",
       "      <td>21</td>\n",
       "      <td>NaN</td>\n",
       "    </tr>\n",
       "    <tr>\n",
       "      <th>109</th>\n",
       "      <td>110</td>\n",
       "      <td>NaN</td>\n",
       "      <td>100</td>\n",
       "      <td>21</td>\n",
       "      <td>NaN</td>\n",
       "    </tr>\n",
       "    <tr>\n",
       "      <th>296</th>\n",
       "      <td>297</td>\n",
       "      <td>NaN</td>\n",
       "      <td>100</td>\n",
       "      <td>21</td>\n",
       "      <td>NaN</td>\n",
       "    </tr>\n",
       "    <tr>\n",
       "      <th>416</th>\n",
       "      <td>417</td>\n",
       "      <td>NaN</td>\n",
       "      <td>100</td>\n",
       "      <td>21</td>\n",
       "      <td>NaN</td>\n",
       "    </tr>\n",
       "    <tr>\n",
       "      <th>...</th>\n",
       "      <td>...</td>\n",
       "      <td>...</td>\n",
       "      <td>...</td>\n",
       "      <td>...</td>\n",
       "      <td>...</td>\n",
       "    </tr>\n",
       "    <tr>\n",
       "      <th>49552</th>\n",
       "      <td>49553</td>\n",
       "      <td>NaN</td>\n",
       "      <td>100</td>\n",
       "      <td>21</td>\n",
       "      <td>NaN</td>\n",
       "    </tr>\n",
       "    <tr>\n",
       "      <th>49574</th>\n",
       "      <td>49575</td>\n",
       "      <td>NaN</td>\n",
       "      <td>100</td>\n",
       "      <td>21</td>\n",
       "      <td>NaN</td>\n",
       "    </tr>\n",
       "    <tr>\n",
       "      <th>49640</th>\n",
       "      <td>49641</td>\n",
       "      <td>NaN</td>\n",
       "      <td>100</td>\n",
       "      <td>21</td>\n",
       "      <td>NaN</td>\n",
       "    </tr>\n",
       "    <tr>\n",
       "      <th>49663</th>\n",
       "      <td>49664</td>\n",
       "      <td>NaN</td>\n",
       "      <td>100</td>\n",
       "      <td>21</td>\n",
       "      <td>NaN</td>\n",
       "    </tr>\n",
       "    <tr>\n",
       "      <th>49668</th>\n",
       "      <td>49669</td>\n",
       "      <td>NaN</td>\n",
       "      <td>100</td>\n",
       "      <td>21</td>\n",
       "      <td>NaN</td>\n",
       "    </tr>\n",
       "  </tbody>\n",
       "</table>\n",
       "<p>1258 rows × 5 columns</p>\n",
       "</div>"
      ],
      "text/plain": [
       "       product_id product_name  aisle_id  department_id product_names_lower\n",
       "37             38          NaN       100             21                 NaN\n",
       "71             72          NaN       100             21                 NaN\n",
       "109           110          NaN       100             21                 NaN\n",
       "296           297          NaN       100             21                 NaN\n",
       "416           417          NaN       100             21                 NaN\n",
       "...           ...          ...       ...            ...                 ...\n",
       "49552       49553          NaN       100             21                 NaN\n",
       "49574       49575          NaN       100             21                 NaN\n",
       "49640       49641          NaN       100             21                 NaN\n",
       "49663       49664          NaN       100             21                 NaN\n",
       "49668       49669          NaN       100             21                 NaN\n",
       "\n",
       "[1258 rows x 5 columns]"
      ]
     },
     "execution_count": 26,
     "metadata": {},
     "output_type": "execute_result"
    }
   ],
   "source": [
    "# What is this ailse and department?\n",
    "pt.loc[(pt['aisle_id']==100) & (pt['department_id']==21)]\n",
    "\n",
    "#there is no way to tell what they are because there's no value attached to them and they only appear together. \n",
    "#this is an unknown combination."
   ]
  },
  {
   "cell_type": "code",
   "execution_count": 27,
   "id": "6b295120",
   "metadata": {},
   "outputs": [
    {
     "data": {
      "text/html": [
       "<div>\n",
       "<style scoped>\n",
       "    .dataframe tbody tr th:only-of-type {\n",
       "        vertical-align: middle;\n",
       "    }\n",
       "\n",
       "    .dataframe tbody tr th {\n",
       "        vertical-align: top;\n",
       "    }\n",
       "\n",
       "    .dataframe thead th {\n",
       "        text-align: right;\n",
       "    }\n",
       "</style>\n",
       "<table border=\"1\" class=\"dataframe\">\n",
       "  <thead>\n",
       "    <tr style=\"text-align: right;\">\n",
       "      <th></th>\n",
       "      <th>product_id</th>\n",
       "      <th>product_name</th>\n",
       "      <th>aisle_id</th>\n",
       "      <th>department_id</th>\n",
       "      <th>product_names_lower</th>\n",
       "    </tr>\n",
       "  </thead>\n",
       "  <tbody>\n",
       "    <tr>\n",
       "      <th>37</th>\n",
       "      <td>38</td>\n",
       "      <td>Unknown</td>\n",
       "      <td>100</td>\n",
       "      <td>21</td>\n",
       "      <td>Unknown</td>\n",
       "    </tr>\n",
       "    <tr>\n",
       "      <th>71</th>\n",
       "      <td>72</td>\n",
       "      <td>Unknown</td>\n",
       "      <td>100</td>\n",
       "      <td>21</td>\n",
       "      <td>Unknown</td>\n",
       "    </tr>\n",
       "    <tr>\n",
       "      <th>109</th>\n",
       "      <td>110</td>\n",
       "      <td>Unknown</td>\n",
       "      <td>100</td>\n",
       "      <td>21</td>\n",
       "      <td>Unknown</td>\n",
       "    </tr>\n",
       "    <tr>\n",
       "      <th>296</th>\n",
       "      <td>297</td>\n",
       "      <td>Unknown</td>\n",
       "      <td>100</td>\n",
       "      <td>21</td>\n",
       "      <td>Unknown</td>\n",
       "    </tr>\n",
       "    <tr>\n",
       "      <th>416</th>\n",
       "      <td>417</td>\n",
       "      <td>Unknown</td>\n",
       "      <td>100</td>\n",
       "      <td>21</td>\n",
       "      <td>Unknown</td>\n",
       "    </tr>\n",
       "    <tr>\n",
       "      <th>...</th>\n",
       "      <td>...</td>\n",
       "      <td>...</td>\n",
       "      <td>...</td>\n",
       "      <td>...</td>\n",
       "      <td>...</td>\n",
       "    </tr>\n",
       "    <tr>\n",
       "      <th>49552</th>\n",
       "      <td>49553</td>\n",
       "      <td>Unknown</td>\n",
       "      <td>100</td>\n",
       "      <td>21</td>\n",
       "      <td>Unknown</td>\n",
       "    </tr>\n",
       "    <tr>\n",
       "      <th>49574</th>\n",
       "      <td>49575</td>\n",
       "      <td>Unknown</td>\n",
       "      <td>100</td>\n",
       "      <td>21</td>\n",
       "      <td>Unknown</td>\n",
       "    </tr>\n",
       "    <tr>\n",
       "      <th>49640</th>\n",
       "      <td>49641</td>\n",
       "      <td>Unknown</td>\n",
       "      <td>100</td>\n",
       "      <td>21</td>\n",
       "      <td>Unknown</td>\n",
       "    </tr>\n",
       "    <tr>\n",
       "      <th>49663</th>\n",
       "      <td>49664</td>\n",
       "      <td>Unknown</td>\n",
       "      <td>100</td>\n",
       "      <td>21</td>\n",
       "      <td>Unknown</td>\n",
       "    </tr>\n",
       "    <tr>\n",
       "      <th>49668</th>\n",
       "      <td>49669</td>\n",
       "      <td>Unknown</td>\n",
       "      <td>100</td>\n",
       "      <td>21</td>\n",
       "      <td>Unknown</td>\n",
       "    </tr>\n",
       "  </tbody>\n",
       "</table>\n",
       "<p>1258 rows × 5 columns</p>\n",
       "</div>"
      ],
      "text/plain": [
       "       product_id product_name  aisle_id  department_id product_names_lower\n",
       "37             38      Unknown       100             21             Unknown\n",
       "71             72      Unknown       100             21             Unknown\n",
       "109           110      Unknown       100             21             Unknown\n",
       "296           297      Unknown       100             21             Unknown\n",
       "416           417      Unknown       100             21             Unknown\n",
       "...           ...          ...       ...            ...                 ...\n",
       "49552       49553      Unknown       100             21             Unknown\n",
       "49574       49575      Unknown       100             21             Unknown\n",
       "49640       49641      Unknown       100             21             Unknown\n",
       "49663       49664      Unknown       100             21             Unknown\n",
       "49668       49669      Unknown       100             21             Unknown\n",
       "\n",
       "[1258 rows x 5 columns]"
      ]
     },
     "execution_count": 27,
     "metadata": {},
     "output_type": "execute_result"
    }
   ],
   "source": [
    "# Fill missing product names with 'Unknown'\n",
    "#we can comfortably call fillna() on the whole dataframe because we know where all of the missing values are\n",
    "pt = pt.fillna(value='Unknown')\n",
    "#checking to see if it worked and the product names for aisle 100 and dpt 21 are filled with unknown\n",
    "pt.loc[(pt['aisle_id']==100) & (pt['department_id']==21)]"
   ]
  },
  {
   "cell_type": "markdown",
   "id": "fc70e5ad",
   "metadata": {},
   "source": []
  },
  {
   "cell_type": "markdown",
   "id": "7eb45c86",
   "metadata": {},
   "source": [
    "### `orders` data frame"
   ]
  },
  {
   "cell_type": "code",
   "execution_count": 28,
   "id": "93e41d96",
   "metadata": {},
   "outputs": [
    {
     "name": "stdout",
     "output_type": "stream",
     "text": [
      "order_id                      0\n",
      "user_id                       0\n",
      "order_number                  0\n",
      "order_dow                     0\n",
      "order_hour_of_day             0\n",
      "days_since_prior_order    28817\n",
      "dtype: int64\n"
     ]
    }
   ],
   "source": [
    "#Identify count of missing values\n",
    "print(od.isna().sum())\n",
    "#days_since_prior_order    28817 missing"
   ]
  },
  {
   "cell_type": "code",
   "execution_count": 29,
   "id": "166e5a86",
   "metadata": {},
   "outputs": [
    {
     "data": {
      "text/html": [
       "<div>\n",
       "<style scoped>\n",
       "    .dataframe tbody tr th:only-of-type {\n",
       "        vertical-align: middle;\n",
       "    }\n",
       "\n",
       "    .dataframe tbody tr th {\n",
       "        vertical-align: top;\n",
       "    }\n",
       "\n",
       "    .dataframe thead th {\n",
       "        text-align: right;\n",
       "    }\n",
       "</style>\n",
       "<table border=\"1\" class=\"dataframe\">\n",
       "  <thead>\n",
       "    <tr style=\"text-align: right;\">\n",
       "      <th></th>\n",
       "      <th>order_id</th>\n",
       "      <th>user_id</th>\n",
       "      <th>order_number</th>\n",
       "      <th>order_dow</th>\n",
       "      <th>order_hour_of_day</th>\n",
       "      <th>days_since_prior_order</th>\n",
       "    </tr>\n",
       "  </thead>\n",
       "  <tbody>\n",
       "  </tbody>\n",
       "</table>\n",
       "</div>"
      ],
      "text/plain": [
       "Empty DataFrame\n",
       "Columns: [order_id, user_id, order_number, order_dow, order_hour_of_day, days_since_prior_order]\n",
       "Index: []"
      ]
     },
     "execution_count": 29,
     "metadata": {},
     "output_type": "execute_result"
    }
   ],
   "source": [
    "# Are there any missing values where it's not a customer's first order?\n",
    "od.loc[(od['order_number'] > 1) & (od['days_since_prior_order'].isna())]\n",
    "#there is no instance where a user has more than one order and a missing value for days_since_prior_order. so its ok to have missing values"
   ]
  },
  {
   "cell_type": "markdown",
   "id": "4e23d089",
   "metadata": {},
   "source": []
  },
  {
   "cell_type": "markdown",
   "id": "69dc9ca4",
   "metadata": {},
   "source": [
    "### `order_products` data frame"
   ]
  },
  {
   "cell_type": "code",
   "execution_count": 30,
   "id": "b8240253",
   "metadata": {},
   "outputs": [
    {
     "name": "stdout",
     "output_type": "stream",
     "text": [
      "order_id               0\n",
      "product_id             0\n",
      "add_to_cart_order    836\n",
      "reordered              0\n",
      "dtype: int64\n"
     ]
    }
   ],
   "source": [
    "#Identify count of missing values\n",
    "print(op.isna().sum())"
   ]
  },
  {
   "cell_type": "code",
   "execution_count": 31,
   "id": "9a78e5ee",
   "metadata": {},
   "outputs": [
    {
     "name": "stdout",
     "output_type": "stream",
     "text": [
      "1.0\n",
      "\n",
      "64.0\n"
     ]
    }
   ],
   "source": [
    "# What are the min and max values in this column?\n",
    "print(op['add_to_cart_order'].min()) #1.0\n",
    "print()\n",
    "print(op['add_to_cart_order'].max()) #64.0"
   ]
  },
  {
   "cell_type": "code",
   "execution_count": 32,
   "id": "ab9d0c2b",
   "metadata": {},
   "outputs": [
    {
     "name": "stdout",
     "output_type": "stream",
     "text": [
      "    order_id  missing_values_count\n",
      "4     165801                     6\n",
      "14    813364                    21\n",
      "48   2094761                     9\n",
      "13    747668                     1\n",
      "69   3383594                     5\n",
      "40   1730767                    31\n",
      "9     388234                     6\n",
      "64   2997021                     4\n",
      "53   2449164                    12\n",
      "58   2652650                     1\n",
      "\n",
      "0\n"
     ]
    }
   ],
   "source": [
    "# Save all order IDs with at least one missing value in 'add_to_cart_order'\n",
    "#save the missing values of add_to_cart_order to a new variable\n",
    "orders_with_missing_values = op[op['add_to_cart_order'].isna()]\n",
    "\n",
    "#group the new dataframe by order_id and call size() to get the count of missing values per order id\n",
    "missing_values_count = orders_with_missing_values.groupby('order_id').size().reset_index(name='missing_values_count')\n",
    "\n",
    "#print random rows to see it worked\n",
    "print(missing_values_count.sample(10))\n",
    "print()\n",
    "#check to make sure it worked and we have all the unique order ids with missing add_to_cart_order values\n",
    "print(missing_values_count.duplicated().sum())"
   ]
  },
  {
   "cell_type": "code",
   "execution_count": 33,
   "id": "54c31695",
   "metadata": {},
   "outputs": [
    {
     "data": {
      "text/plain": [
       "True    70\n",
       "Name: product_id, dtype: int64"
      ]
     },
     "execution_count": 33,
     "metadata": {},
     "output_type": "execute_result"
    }
   ],
   "source": [
    "# Do all orders with missing values have more than 64 products?\n",
    "#create a new dataframe containing records with order_id's in the missing_values_count series\n",
    "new_op = op[op['order_id'].isin(missing_values_count['order_id'])]\n",
    "\n",
    "#create a boolean series that returns true if the count of products attached to an order id is greater than 64\n",
    "count = new_op.groupby('order_id')['product_id'].count() > 64\n",
    "\n",
    "#print the value counts to see than all of them have more than 64 products.\n",
    "count.value_counts()\n"
   ]
  },
  {
   "cell_type": "code",
   "execution_count": 34,
   "id": "7a987d08",
   "metadata": {},
   "outputs": [
    {
     "name": "stdout",
     "output_type": "stream",
     "text": [
      "order_id             0\n",
      "product_id           0\n",
      "add_to_cart_order    0\n",
      "reordered            0\n",
      "dtype: int64\n"
     ]
    }
   ],
   "source": [
    "# Replace missing values with 999 and convert column to integer type\n",
    "op['add_to_cart_order'] = op['add_to_cart_order'].fillna(value=999).astype(int)\n",
    "\n",
    "#double check that missing values are filled\n",
    "print(op.isna().sum())"
   ]
  },
  {
   "cell_type": "markdown",
   "id": "turkish-kidney",
   "metadata": {},
   "source": [
    "# [A] Easy (must complete all to pass)"
   ]
  },
  {
   "cell_type": "markdown",
   "id": "short-capability",
   "metadata": {},
   "source": [
    "### [A1] Verify that the `'order_hour_of_day'` and `'order_dow'` values in the `orders` tables are sensible (i.e. `'order_hour_of_day'` ranges from 0 to 23 and `'order_dow'` ranges from 0 to 6)"
   ]
  },
  {
   "cell_type": "code",
   "execution_count": 35,
   "id": "growing-fruit",
   "metadata": {},
   "outputs": [
    {
     "name": "stdout",
     "output_type": "stream",
     "text": [
      "0    84090\n",
      "1    82185\n",
      "2    65833\n",
      "3    60897\n",
      "4    59810\n",
      "5    63488\n",
      "6    62649\n",
      "Name: order_dow, dtype: int64\n"
     ]
    }
   ],
   "source": [
    "#check the value counts of each of these columns to make sure there aren't any obscure values.\n",
    "order_counts_by_day = od['order_dow'].value_counts().sort_index()\n",
    "\n",
    "print(order_counts_by_day)"
   ]
  },
  {
   "cell_type": "code",
   "execution_count": 36,
   "id": "accessory-malaysia",
   "metadata": {},
   "outputs": [
    {
     "name": "stdout",
     "output_type": "stream",
     "text": [
      "0      3180\n",
      "1      1763\n",
      "2       989\n",
      "3       770\n",
      "4       765\n",
      "5      1371\n",
      "6      4215\n",
      "7     13043\n",
      "8     25024\n",
      "9     35896\n",
      "10    40578\n",
      "11    40032\n",
      "12    38034\n",
      "13    39007\n",
      "14    39631\n",
      "15    39789\n",
      "16    38112\n",
      "17    31930\n",
      "18    25510\n",
      "19    19547\n",
      "20    14624\n",
      "21    11019\n",
      "22     8512\n",
      "23     5611\n",
      "Name: order_hour_of_day, dtype: int64\n"
     ]
    }
   ],
   "source": [
    "order_counts_by_hour = od['order_hour_of_day'].value_counts().sort_index()\n",
    "\n",
    "print(order_counts_by_hour)\n",
    "#both columns look good"
   ]
  },
  {
   "cell_type": "markdown",
   "id": "a6743a70",
   "metadata": {},
   "source": [
    "### [A2] What time of day do people shop for groceries?"
   ]
  },
  {
   "cell_type": "code",
   "execution_count": 37,
   "id": "a36cca27",
   "metadata": {},
   "outputs": [
    {
     "data": {
      "image/png": "[encoded data removed]",
      "text/plain": [
       "<Figure size 432x288 with 1 Axes>"
      ]
     },
     "metadata": {
      "needs_background": "light"
     },
     "output_type": "display_data"
    }
   ],
   "source": [
    "#plotting on a bar chart to see the distribution\n",
    "order_counts_by_hour.plot(title='Time of day People Shop for Groceries',\n",
    "        kind='bar',\n",
    "        xlabel='Hour of the Day',\n",
    "        ylabel='Order Count',\n",
    "        color='purple',\n",
    "        rot=45\n",
    ")\n",
    "\n",
    "plt.show()"
   ]
  },
  {
   "cell_type": "markdown",
   "id": "89b1e9d8",
   "metadata": {},
   "source": [
    "According to the Bar Graph, People tend to grocery shop the most in the late morning and mid afternoon, but the vast majority do it during 9-5 working hours."
   ]
  },
  {
   "cell_type": "markdown",
   "id": "documented-command",
   "metadata": {},
   "source": [
    "### [A3] What day of the week do people shop for groceries?"
   ]
  },
  {
   "cell_type": "code",
   "execution_count": 38,
   "id": "chief-digit",
   "metadata": {},
   "outputs": [
    {
     "data": {
      "image/png": "[encoded data removed]",
      "text/plain": [
       "<Figure size 432x288 with 1 Axes>"
      ]
     },
     "metadata": {
      "needs_background": "light"
     },
     "output_type": "display_data"
    }
   ],
   "source": [
    "#change indexes in order_counts_by_day to show days of week instead of number. easier to read\n",
    "indexes=['Sunday','Monday','Tuesday','Wednesday','Thursday','Friday','Saturday']\n",
    "\n",
    "order_counts_by_day.index = indexes\n",
    "\n",
    "#plotting on a bar chart to see the distribution\n",
    "order_counts_by_day.plot(title='Day of the Week People Grocery Shop',\n",
    "                         xlabel='Day of the Week',\n",
    "                         ylabel='Order Count',\n",
    "                         rot=45,\n",
    "                         kind='bar',\n",
    "                         color='green'\n",
    ")\n",
    "\n",
    "plt.show()"
   ]
  },
  {
   "cell_type": "markdown",
   "id": "d59faf71",
   "metadata": {},
   "source": [
    "Based on the Bar Graph, people mostly do their grocery shopping on Sundays and Mondays."
   ]
  },
  {
   "cell_type": "markdown",
   "id": "dominant-lightning",
   "metadata": {},
   "source": []
  },
  {
   "cell_type": "markdown",
   "id": "cutting-concert",
   "metadata": {},
   "source": [
    "### [A4] How long do people wait until placing another order?"
   ]
  },
  {
   "cell_type": "code",
   "execution_count": 39,
   "id": "c231f523",
   "metadata": {},
   "outputs": [],
   "source": [
    "#changing index format to look cleaner on a graph\n",
    "days_until_count = od['days_since_prior_order'].value_counts().sort_index()\n",
    "\n",
    "days_until_count.index = days_until_count.index.astype('int')"
   ]
  },
  {
   "cell_type": "markdown",
   "id": "discrete-vertex",
   "metadata": {},
   "source": []
  },
  {
   "cell_type": "code",
   "execution_count": 40,
   "id": "exciting-fantasy",
   "metadata": {},
   "outputs": [
    {
     "data": {
      "image/png": "[encoded data removed]",
      "text/plain": [
       "<Figure size 432x288 with 1 Axes>"
      ]
     },
     "metadata": {
      "needs_background": "light"
     },
     "output_type": "display_data"
    }
   ],
   "source": [
    "#plot a bar chart of the counts of days since last order\n",
    "days_until_count.plot(kind='bar',\n",
    "                      xlabel='Days Since Prior Order',\n",
    "                      ylabel='Count of Instances',\n",
    "                      color='orange',\n",
    "                      title='How long do people wait until placing another order?',\n",
    "                      rot=45\n",
    ")\n",
    "\n",
    "plt.show()"
   ]
  },
  {
   "cell_type": "markdown",
   "id": "add097ae",
   "metadata": {},
   "source": [
    "Based on the graph,30 days is an outlier and likely represents 30 or more days since last order. If we exclude those stats, people generally take about a week to order again or wait a long time to use the service again."
   ]
  },
  {
   "cell_type": "markdown",
   "id": "tight-staff",
   "metadata": {},
   "source": [
    "# [B] Medium (must complete all to pass)"
   ]
  },
  {
   "cell_type": "markdown",
   "id": "packed-classic",
   "metadata": {},
   "source": [
    "### [B1] Is there a difference in `'order_hour_of_day'` distributions on Wednesdays and Saturdays? Plot the histograms for both days and describe the differences that you see."
   ]
  },
  {
   "cell_type": "code",
   "execution_count": 41,
   "id": "d89b8403",
   "metadata": {},
   "outputs": [
    {
     "data": {
      "text/plain": [
       "0      373\n",
       "1      215\n",
       "2      106\n",
       "3      101\n",
       "4      108\n",
       "5      170\n",
       "6      643\n",
       "7     1732\n",
       "8     3125\n",
       "9     4490\n",
       "10    5026\n",
       "11    5004\n",
       "12    4688\n",
       "13    4674\n",
       "14    4774\n",
       "15    5163\n",
       "16    4976\n",
       "17    4175\n",
       "18    3463\n",
       "19    2652\n",
       "20    1917\n",
       "21    1450\n",
       "22    1154\n",
       "23     718\n",
       "Name: order_hour_of_day, dtype: int64"
      ]
     },
     "execution_count": 41,
     "metadata": {},
     "output_type": "execute_result"
    }
   ],
   "source": [
    "#create a dataframe for all orders on wednesdays\n",
    "od_wed = od.loc[(od['order_dow']==3)]\n",
    "\n",
    "od_wed['order_hour_of_day'].value_counts().sort_index()"
   ]
  },
  {
   "cell_type": "code",
   "execution_count": 42,
   "id": "94e54e8a",
   "metadata": {},
   "outputs": [
    {
     "data": {
      "text/plain": [
       "0      464\n",
       "1      254\n",
       "2      177\n",
       "3      125\n",
       "4      118\n",
       "5      161\n",
       "6      451\n",
       "7     1619\n",
       "8     3246\n",
       "9     4311\n",
       "10    4919\n",
       "11    5116\n",
       "12    5132\n",
       "13    5323\n",
       "14    5375\n",
       "15    5188\n",
       "16    5029\n",
       "17    4295\n",
       "18    3338\n",
       "19    2610\n",
       "20    1847\n",
       "21    1473\n",
       "22    1185\n",
       "23     893\n",
       "Name: order_hour_of_day, dtype: int64"
      ]
     },
     "execution_count": 42,
     "metadata": {},
     "output_type": "execute_result"
    }
   ],
   "source": [
    "#create a dataframe for all orders on saturdays\n",
    "od_sat = od.loc[(od['order_dow']==6)]\n",
    "\n",
    "od_sat['order_hour_of_day'].value_counts().sort_index()"
   ]
  },
  {
   "cell_type": "code",
   "execution_count": 43,
   "id": "797c90a8",
   "metadata": {},
   "outputs": [
    {
     "data": {
      "image/png": "[encoded data removed]",
      "text/plain": [
       "<Figure size 432x288 with 1 Axes>"
      ]
     },
     "metadata": {
      "needs_background": "light"
     },
     "output_type": "display_data"
    }
   ],
   "source": [
    "#plot both dataframes indexing hour of the day onto the same histogram to compare the results\n",
    "od_sat['order_hour_of_day'].plot(kind='hist',\n",
    "                                 bins=24,\n",
    "                                 title='Order Frequency by Hour of Day - Wednesday vs. Saturday',\n",
    "                                 ylabel='Frequency',\n",
    "                                alpha=1)\n",
    "\n",
    "od_wed['order_hour_of_day'].plot(kind='hist',\n",
    "                                 bins=24,\n",
    "                                alpha=.6)\n",
    "\n",
    "plt.legend(['Saturday','Wednesday'])\n",
    "plt.show()"
   ]
  },
  {
   "cell_type": "markdown",
   "id": "f3080514",
   "metadata": {},
   "source": [
    "Based on the histogram, the distributions for both Wednesday and Saturday are virtually the same, except people seem to grocery shop more on Saturdays in the middle of the day."
   ]
  },
  {
   "cell_type": "markdown",
   "id": "charitable-congo",
   "metadata": {},
   "source": []
  },
  {
   "cell_type": "markdown",
   "id": "e3891143",
   "metadata": {},
   "source": [
    "### [B2] What's the distribution for the number of orders per customer?"
   ]
  },
  {
   "cell_type": "code",
   "execution_count": 44,
   "id": "00e69a66",
   "metadata": {},
   "outputs": [
    {
     "name": "stdout",
     "output_type": "stream",
     "text": [
      "        user_id  orders\n",
      "115631   151618      47\n",
      "22181     29110      43\n",
      "80769    105762      11\n",
      "947        1241       9\n",
      "99074    129889      15\n",
      "135941   178168      16\n",
      "116152   152290       8\n",
      "149185   195400       7\n",
      "102469   134336      32\n",
      "1828       2372       5\n"
     ]
    },
    {
     "data": {
      "text/plain": [
       "4     12368\n",
       "3     10510\n",
       "5     10406\n",
       "6      9194\n",
       "2      9113\n",
       "7      7901\n",
       "1      7840\n",
       "8      6894\n",
       "9      6118\n",
       "10     5497\n",
       "11     4903\n",
       "12     4411\n",
       "13     4105\n",
       "14     3792\n",
       "15     3402\n",
       "16     3017\n",
       "17     2760\n",
       "18     2616\n",
       "19     2396\n",
       "20     2223\n",
       "21     2020\n",
       "22     1887\n",
       "23     1875\n",
       "24     1655\n",
       "25     1597\n",
       "26     1450\n",
       "27     1332\n",
       "29     1241\n",
       "28     1232\n",
       "30     1183\n",
       "Name: orders, dtype: int64"
      ]
     },
     "execution_count": 44,
     "metadata": {},
     "output_type": "execute_result"
    }
   ],
   "source": [
    "#group by the user id's and get their max order number so we have one entry for each user that accurately shows how many\n",
    "#orders they've placed with instacart.\n",
    "\n",
    "od_user_orders = od.groupby('user_id')['order_number'].max().reset_index(name='orders')\n",
    "\n",
    "print(od_user_orders.sample(10))\n",
    "od_user_orders['orders'].value_counts().head(30)"
   ]
  },
  {
   "cell_type": "code",
   "execution_count": 45,
   "id": "d8143177",
   "metadata": {},
   "outputs": [
    {
     "data": {
      "image/png": "[encoded data removed]",
      "text/plain": [
       "<Figure size 1440x1440 with 1 Axes>"
      ]
     },
     "metadata": {
      "needs_background": "light"
     },
     "output_type": "display_data"
    }
   ],
   "source": [
    "#create a scatterplot to show distribution of order counts by customer. after 30 orders, the graph doesn't tell much \n",
    "#other than not many people order more than 30 times, so I shrunk the range to capture the distribution of 1-10 orders more.\n",
    "od_user_orders.plot(kind='hist',\n",
    "                   y='orders',\n",
    "                    range=[1,30],\n",
    "                    ylabel='Frequency',\n",
    "                    bins=30,\n",
    "                   figsize=[20,20],\n",
    "                   color='darkmagenta',\n",
    "                   grid=True,\n",
    "                   width=0.6)\n",
    "\n",
    "plt.xticks(np.arange(0, 30, 1))\n",
    "plt.legend(['Number of Orders'])\n",
    "plt.show()"
   ]
  },
  {
   "cell_type": "markdown",
   "id": "736fddfb",
   "metadata": {},
   "source": [
    "Based on the Histogram, we can see that people tend to make 4 orders the most frequently and overall tend to make less than 10 orders. We can also see that when a user makes an order, it's typical for them to order again!"
   ]
  },
  {
   "cell_type": "markdown",
   "id": "54a0319c",
   "metadata": {},
   "source": [
    "### [B3] What are the top 20 popular products (display their id and name)?"
   ]
  },
  {
   "cell_type": "code",
   "execution_count": 46,
   "id": "exterior-arizona",
   "metadata": {},
   "outputs": [
    {
     "name": "stdout",
     "output_type": "stream",
     "text": [
      "<class 'pandas.core.frame.DataFrame'>\n",
      "Int64Index: 4545007 entries, 0 to 4545006\n",
      "Data columns (total 4 columns):\n",
      " #   Column               Non-Null Count    Dtype \n",
      "---  ------               --------------    ----- \n",
      " 0   order_id             4545007 non-null  int64 \n",
      " 1   product_id           4545007 non-null  int64 \n",
      " 2   product_name         4545007 non-null  object\n",
      " 3   product_names_lower  4545007 non-null  object\n",
      "dtypes: int64(2), object(2)\n",
      "memory usage: 173.4+ MB\n"
     ]
    }
   ],
   "source": [
    "#merging products and order products dataframes so we can get how many time a product was ordered to determine popularity\n",
    "products_merged = op.merge(pt,\n",
    "                          how='left',\n",
    "                          on='product_id')\n",
    "\n",
    "#drop columns we don't need\n",
    "products_merged = products_merged.drop(['add_to_cart_order','reordered','aisle_id','department_id'],axis='columns')\n",
    "\n",
    "#make sure we have all the values from order_products\n",
    "products_merged.info(show_counts=True)"
   ]
  },
  {
   "cell_type": "code",
   "execution_count": 47,
   "id": "universal-facial",
   "metadata": {},
   "outputs": [
    {
     "name": "stdout",
     "output_type": "stream",
     "text": [
      "       product_id       product_names_lower  total_orders\n",
      "22808       24852                    banana         66050\n",
      "12025       13176    bag of organic bananas         53297\n",
      "19370       21137      organic strawberries         37039\n",
      "20077       21903      organic baby spinach         33971\n",
      "43271       47209      organic hass avocado         29773\n",
      "43788       47766           organic avocado         24689\n",
      "43663       47626               large lemon         21495\n",
      "15364       16797              strawberries         20018\n",
      "24047       26209                     limes         19690\n",
      "25556       27845        organic whole milk         19600\n",
      "25666       27966       organic raspberries         19197\n",
      "21025       22935      organic yellow onion         15898\n",
      "22908       24964            organic garlic         15292\n",
      "41244       45007          organic zucchini         14584\n",
      "35996       39275       organic blueberries         13879\n",
      "45561       49683            cucumber kirby         13675\n",
      "25889       28204        organic fuji apple         12544\n",
      "5375         5876             organic lemon         12232\n",
      "7543         8277  apple honeycrisp organic         11993\n",
      "37301       40706    organic grape tomatoes         11781\n"
     ]
    }
   ],
   "source": [
    "#with the merged dataframe, groupby the lowercase product names by how many orders each item has and sort by the total count\n",
    "popular_products = products_merged.groupby(['product_id','product_names_lower'])['order_id'].count().reset_index(name='total_orders').sort_values(['total_orders'], ascending=False)\n",
    "\n",
    "#print the top 20 results\n",
    "print(popular_products.head(20))"
   ]
  },
  {
   "cell_type": "markdown",
   "id": "7df00f47",
   "metadata": {},
   "source": []
  },
  {
   "cell_type": "markdown",
   "id": "gross-theme",
   "metadata": {},
   "source": [
    "# [C] Hard (must complete at least two to pass)"
   ]
  },
  {
   "cell_type": "markdown",
   "id": "romantic-deposit",
   "metadata": {},
   "source": [
    "### [C1] How many items do people typically buy in one order? What does the distribution look like?"
   ]
  },
  {
   "cell_type": "code",
   "execution_count": null,
   "id": "virtual-punch",
   "metadata": {},
   "outputs": [],
   "source": []
  },
  {
   "cell_type": "code",
   "execution_count": null,
   "id": "sensitive-breathing",
   "metadata": {},
   "outputs": [],
   "source": []
  },
  {
   "cell_type": "code",
   "execution_count": null,
   "id": "completed-frank",
   "metadata": {},
   "outputs": [],
   "source": []
  },
  {
   "cell_type": "markdown",
   "id": "designed-mortality",
   "metadata": {},
   "source": []
  },
  {
   "cell_type": "markdown",
   "id": "5e6b5537",
   "metadata": {},
   "source": [
    "### [C2] What are the top 20 items that are reordered most frequently (display their names and product IDs)?"
   ]
  },
  {
   "cell_type": "code",
   "execution_count": 48,
   "id": "9374e55a",
   "metadata": {},
   "outputs": [
    {
     "name": "stdout",
     "output_type": "stream",
     "text": [
      "<class 'pandas.core.frame.DataFrame'>\n",
      "Int64Index: 2683838 entries, 1 to 4545005\n",
      "Data columns (total 5 columns):\n",
      " #   Column               Non-Null Count    Dtype \n",
      "---  ------               --------------    ----- \n",
      " 0   order_id             2683838 non-null  int64 \n",
      " 1   product_id           2683838 non-null  int64 \n",
      " 2   reordered            2683838 non-null  int64 \n",
      " 3   product_name         2683838 non-null  object\n",
      " 4   product_names_lower  2683838 non-null  object\n",
      "dtypes: int64(3), object(2)\n",
      "memory usage: 122.9+ MB\n",
      "         order_id  product_id  reordered                        product_name  \\\n",
      "2755709   2088992       30967          1       Organic Frosted Flakes Cereal   \n",
      "3433255   2555585       34969          1                     Red Vine Tomato   \n",
      "4373772   2640868       47888          1  Apple and Carrot Stage 2 Baby Food   \n",
      "3565650    281943        5479          1     Italian Sparkling Mineral Water   \n",
      "514737    1575125       35221          1                Lime Sparkling Water   \n",
      "1502326   2101230       45007          1                    Organic Zucchini   \n",
      "3887396   2395872        9076          1                         Blueberries   \n",
      "2010197   2480704       49683          1                      Cucumber Kirby   \n",
      "728222    1727514       21157          1              Bagels Plain Presliced   \n",
      "492157     476025       49235          1                 Organic Half & Half   \n",
      "\n",
      "                        product_names_lower  \n",
      "2755709       organic frosted flakes cereal  \n",
      "3433255                     red vine tomato  \n",
      "4373772  apple and carrot stage 2 baby food  \n",
      "3565650     italian sparkling mineral water  \n",
      "514737                 lime sparkling water  \n",
      "1502326                    organic zucchini  \n",
      "3887396                         blueberries  \n",
      "2010197                      cucumber kirby  \n",
      "728222               bagels plain presliced  \n",
      "492157                  organic half & half  \n"
     ]
    }
   ],
   "source": [
    "#merging products and order products dataframes so we can get how many time a product was ordered to determine popularity\n",
    "products_merged_y = op.merge(pt,\n",
    "                          how='left',\n",
    "                          on='product_id')\n",
    "\n",
    "\n",
    "#drop columns we don't need\n",
    "products_merged_y = products_merged_y.drop(['add_to_cart_order','aisle_id','department_id'],axis='columns')\n",
    "\n",
    "#make a new dataframe containing only items that were the first added to their carts\n",
    "products_merged_y_first = products_merged_y.loc[products_merged_y['reordered']==1]\n",
    "\n",
    "\n",
    "\n",
    "#make sure we have the values we need\n",
    "products_merged_y_first.info(show_counts=True)\n",
    "print(products_merged_y_first.sample(10))"
   ]
  },
  {
   "cell_type": "code",
   "execution_count": 49,
   "id": "possible-change",
   "metadata": {
    "scrolled": true
   },
   "outputs": [
    {
     "data": {
      "image/png": "[encoded data removed]",
      "text/plain": [
       "<Figure size 720x576 with 1 Axes>"
      ]
     },
     "metadata": {
      "needs_background": "light"
     },
     "output_type": "display_data"
    }
   ],
   "source": [
    "#with the merged dataframe, groupby the lowercase product names by how many orders each item has and sort by the total count\n",
    "popular_products_y_first = products_merged_y_first.groupby(['product_id','product_names_lower'])['order_id'].count().reset_index(name='total_orders').sort_values(['total_orders'], ascending=False)\n",
    "\n",
    "#create a bar graph of the results\n",
    "popular_products_y_first[:20].plot(kind='bar',\n",
    "                                   title='Top 20 Items Reordered most Frequently',\n",
    "                                   x='product_names_lower',\n",
    "                                   xlabel='Products',\n",
    "                                   y='total_orders',\n",
    "                                   ylabel='Frequency',\n",
    "                                  figsize=[10,8],\n",
    "                                  legend=None,\n",
    "                                  color='olive')\n",
    "\n",
    "\n",
    "\n",
    "plt.show()"
   ]
  },
  {
   "cell_type": "markdown",
   "id": "8713ab66",
   "metadata": {
    "scrolled": true
   },
   "source": [
    "Based on the results, most of the top ordered items were also the most reordered items"
   ]
  },
  {
   "cell_type": "markdown",
   "id": "80e70c74",
   "metadata": {},
   "source": []
  },
  {
   "cell_type": "markdown",
   "id": "9d312b14",
   "metadata": {},
   "source": [
    "### [C3] For each product, what proportion of its orders are reorders?"
   ]
  },
  {
   "cell_type": "code",
   "execution_count": 50,
   "id": "103e7fe1",
   "metadata": {},
   "outputs": [
    {
     "name": "stdout",
     "output_type": "stream",
     "text": [
      "       product_id                                       product_name  \\\n",
      "28294       30850                         French Roast Ground Coffee   \n",
      "37403       40820  Vietnamese Brown Rice Noodle Soup Gluten Free ...   \n",
      "14796       16189                       Chicken Flavor Instant Lunch   \n",
      "40998       44743                                     Real Zero Cola   \n",
      "24395       26586                Quart Sized  Easy Open Freezer Bags   \n",
      "42509       46381                            Tricolor Pearl Couscous   \n",
      "5768         6315            Reusable Hot & Cold Therapy Sports Pack   \n",
      "16693       18240  Protein Kefir Nonfat Cultured Milk Smoothie Va...   \n",
      "41976       45795  Super Puffs Spinach & Apple Fruit & Veggie Gra...   \n",
      "21875       23846                   Lactose Free Chocolate Ice Cream   \n",
      "43318       47259                                 Spaetzle Dumplings   \n",
      "13557       14838             Decaf Green Tea with White Tea - 20 CT   \n",
      "12473       13657                     Coleslaw Dressing Calorie Free   \n",
      "10728       11762                                          Rinse Aid   \n",
      "6238         6839                          Portabella Veggie Burgers   \n",
      "\n",
      "       total_orders  reorders  reorder_proportion  \n",
      "28294           696       454            0.652299  \n",
      "37403            14         2            0.142857  \n",
      "14796            14         8            0.571429  \n",
      "40998             2         2            1.000000  \n",
      "24395           173        53            0.306358  \n",
      "42509            21         9            0.428571  \n",
      "5768              1         0            0.000000  \n",
      "16693             3         1            0.333333  \n",
      "41976            58        24            0.413793  \n",
      "21875             9         2            0.222222  \n",
      "43318             1         0            0.000000  \n",
      "13557             2         0            0.000000  \n",
      "12473             1         0            0.000000  \n",
      "10728             3         0            0.000000  \n",
      "6238             26         7            0.269231  \n"
     ]
    }
   ],
   "source": [
    "#calculate the number of reorders for each product and assign to a variable\n",
    "reorders = op.groupby('product_id')['reordered'].sum()\n",
    "\n",
    "#calculate the total number of orders for each product and assign to a variable\n",
    "total_orders = op.groupby('product_id').size()\n",
    "\n",
    "#calculate the reorder proportion for each product and assign to a variable\n",
    "reorder_proportion = reorders / total_orders\n",
    "\n",
    "#convert this to a DataFrame for better readability and presentation\n",
    "data_to_display = pd.DataFrame({\n",
    "    'total_orders': total_orders,\n",
    "    'reorders': reorders,\n",
    "    'reorder_proportion': reorder_proportion\n",
    "}).reset_index() #reset_index() will add the product_id to the dataframe as the first column.\n",
    "\n",
    "#join with the products dataframe to get product names using an 'inner' join and pick the necessary columns needed to display\n",
    "data_to_display = data_to_display.merge(pt, on='product_id', how='inner')[['product_id', 'product_name', 'total_orders', 'reorders', 'reorder_proportion']]\n",
    "\n",
    "#display random values in the dataframe to test it worked\n",
    "print(data_to_display.sort_values(by='reorder_proportion',ascending=False).sample(15))"
   ]
  },
  {
   "cell_type": "code",
   "execution_count": 51,
   "id": "social-individual",
   "metadata": {},
   "outputs": [
    {
     "data": {
      "image/png": "[encoded data removed]",
      "text/plain": [
       "<Figure size 432x288 with 1 Axes>"
      ]
     },
     "metadata": {
      "needs_background": "light"
     },
     "output_type": "display_data"
    }
   ],
   "source": [
    "data_to_display['reorder_proportion'].plot(kind='hist',\n",
    "                                 bins=40,\n",
    "                                 title='Distribution of Reorder proportions for Products',\n",
    "                                 ylabel='Frequency',\n",
    "                                alpha=1,\n",
    "                                color='saddlebrown',\n",
    "                                width=.02\n",
    "                                )\n",
    "\n",
    "plt.legend(['Reorder Proportion'])\n",
    "plt.show()"
   ]
  },
  {
   "cell_type": "code",
   "execution_count": 52,
   "id": "56ffc1a5",
   "metadata": {},
   "outputs": [
    {
     "data": {
      "image/png": "[encoded data removed]",
      "text/plain": [
       "<Figure size 720x576 with 1 Axes>"
      ]
     },
     "metadata": {
      "needs_background": "light"
     },
     "output_type": "display_data"
    }
   ],
   "source": [
    "#create a bar graph of the top 20 reorder proportions\n",
    "data_to_display.loc[data_to_display['reorder_proportion'] != 1.0].sort_values(by='reorder_proportion',ascending=False)[:20].plot(kind='bar',\n",
    "                                   title='Top 20 Items by Reorder Proportion',\n",
    "                                   x='product_name',\n",
    "                                   xlabel='Products',\n",
    "                                   y='reorder_proportion',\n",
    "                                   ylabel='Frequency',\n",
    "                                  figsize=[10,8],\n",
    "                                  legend=None,\n",
    "                                  color='purple')\n",
    "\n",
    "\n",
    "\n",
    "plt.show()"
   ]
  },
  {
   "cell_type": "markdown",
   "id": "subject-boxing",
   "metadata": {},
   "source": [
    "### [C4] For each customer, what proportion of their products ordered are reorders?"
   ]
  },
  {
   "cell_type": "code",
   "execution_count": null,
   "id": "medical-couple",
   "metadata": {
    "scrolled": true
   },
   "outputs": [],
   "source": []
  },
  {
   "cell_type": "code",
   "execution_count": null,
   "id": "8892e4b4",
   "metadata": {},
   "outputs": [],
   "source": []
  },
  {
   "cell_type": "markdown",
   "id": "92d35137",
   "metadata": {},
   "source": [
    "### [C5] What are the top 20 items that people put in their carts first? "
   ]
  },
  {
   "cell_type": "code",
   "execution_count": 53,
   "id": "0ae57274",
   "metadata": {
    "scrolled": true
   },
   "outputs": [
    {
     "name": "stdout",
     "output_type": "stream",
     "text": [
      "<class 'pandas.core.frame.DataFrame'>\n",
      "Int64Index: 450046 entries, 1 to 4544999\n",
      "Data columns (total 5 columns):\n",
      " #   Column               Non-Null Count   Dtype \n",
      "---  ------               --------------   ----- \n",
      " 0   order_id             450046 non-null  int64 \n",
      " 1   product_id           450046 non-null  int64 \n",
      " 2   add_to_cart_order    450046 non-null  int64 \n",
      " 3   product_name         450046 non-null  object\n",
      " 4   product_names_lower  450046 non-null  object\n",
      "dtypes: int64(3), object(2)\n",
      "memory usage: 20.6+ MB\n",
      "         order_id  product_id  add_to_cart_order           product_name  \\\n",
      "4215365   2401460        5652                  1   Organic Red Potatoes   \n",
      "3439201   1200475       19678                  1  Organic Russet Potato   \n",
      "1306810    604586       19660                  1           Spring Water   \n",
      "856416    2940205       39812                  1          Organic Thyme   \n",
      "2790329   2515356        5482                  1   Strawberry Shortcake   \n",
      "297138    1961716       30391                  1       Organic Cucumber   \n",
      "2118247   3398875       47766                  1        Organic Avocado   \n",
      "2965841   3366831       45633                  1  Organic Beef Hot Dogs   \n",
      "881416    3087355        8424                  1         Broccoli Crown   \n",
      "2074842   1492365       32667                  1           Rice Pudding   \n",
      "\n",
      "           product_names_lower  \n",
      "4215365   organic red potatoes  \n",
      "3439201  organic russet potato  \n",
      "1306810           spring water  \n",
      "856416           organic thyme  \n",
      "2790329   strawberry shortcake  \n",
      "297138        organic cucumber  \n",
      "2118247        organic avocado  \n",
      "2965841  organic beef hot dogs  \n",
      "881416          broccoli crown  \n",
      "2074842           rice pudding  \n"
     ]
    }
   ],
   "source": [
    "#merging products and order products dataframes so we can get how many time a product was ordered to determine popularity\n",
    "products_merged_x = op.merge(pt,\n",
    "                          how='left',\n",
    "                          on='product_id')\n",
    "\n",
    "\n",
    "#drop columns we don't need\n",
    "products_merged_x = products_merged_x.drop(['reordered','aisle_id','department_id'],axis='columns')\n",
    "\n",
    "#make a new dataframe containing only items that were the first added to their carts\n",
    "products_merged_x_first = products_merged_x.loc[products_merged_x['add_to_cart_order']==1]\n",
    "\n",
    "\n",
    "\n",
    "#make sure we have the values we need\n",
    "products_merged_x_first.info(show_counts=True)\n",
    "print(products_merged_x_first.sample(10))"
   ]
  },
  {
   "cell_type": "code",
   "execution_count": 54,
   "id": "forty-netherlands",
   "metadata": {
    "scrolled": false
   },
   "outputs": [
    {
     "data": {
      "image/png": "[encoded data removed]",
      "text/plain": [
       "<Figure size 720x576 with 1 Axes>"
      ]
     },
     "metadata": {
      "needs_background": "light"
     },
     "output_type": "display_data"
    }
   ],
   "source": [
    "#with the merged dataframe, groupby the lowercase product names by how many orders each item has and sort by the total count\n",
    "popular_products_x_first = products_merged_x_first.groupby(['product_id','product_names_lower'])['order_id'].count().reset_index(name='total_orders').sort_values(['total_orders'], ascending=False)\n",
    "\n",
    "\n",
    "#create a bar graph of the results\n",
    "popular_products_x_first[:20].plot(kind='bar',\n",
    "                                   title='Top 20 Items Customers put into Cart First',\n",
    "                                   x='product_names_lower',\n",
    "                                   xlabel='Products',\n",
    "                                   y='total_orders',\n",
    "                                   ylabel='Frequency',\n",
    "                                  figsize=[10,8],\n",
    "                                  legend=None,\n",
    "                                  color='lightseagreen')\n",
    "\n",
    "\n",
    "\n",
    "plt.show()"
   ]
  },
  {
   "cell_type": "markdown",
   "id": "39da099c",
   "metadata": {},
   "source": [
    "Based on the results, they are similar to the top 20 overall products people order, but with more basic products like milk and water closer to the top. Bananas are the most common in both scenarios"
   ]
  },
  {
   "cell_type": "code",
   "execution_count": 56,
   "id": "3625bef9",
   "metadata": {},
   "outputs": [
    {
     "data": {
      "image/png": "[encoded data removed]",
      "text/plain": [
       "<Figure size 432x288 with 1 Axes>"
      ]
     },
     "metadata": {
      "needs_background": "light"
     },
     "output_type": "display_data"
    }
   ],
   "source": [
    "# Assuming popular_products_x_first['product_names_lower'] contains the product names and 'total_orders' contains the count\n",
    "plt.barh(popular_products_x_first['product_names_lower'][:20], popular_products_x_first['total_orders'][:20])\n",
    "plt.gca().invert_yaxis()  # Invert the y-axis to have the highest values at the top\n",
    "plt.xlabel('Frequency')\n",
    "plt.ylabel('Products')\n",
    "plt.title('Top 20 Items Customers put into Cart First')\n",
    "plt.show()\n"
   ]
  },
  {
   "cell_type": "markdown",
   "id": "28ce9872",
   "metadata": {},
   "source": []
  }
 ],
 "metadata": {
  "kernelspec": {
   "display_name": "Python 3 (ipykernel)",
   "language": "python",
   "name": "python3"
  },
  "language_info": {
   "codemirror_mode": {
    "name": "ipython",
    "version": 3
   },
   "file_extension": ".py",
   "mimetype": "text/x-python",
   "name": "python",
   "nbconvert_exporter": "python",
   "pygments_lexer": "ipython3",
   "version": "3.9.19"
  },
  "toc": {
   "base_numbering": 1,
   "nav_menu": {},
   "number_sections": true,
   "sideBar": true,
   "skip_h1_title": true,
   "title_cell": "Table of Contents",
   "title_sidebar": "Contents",
   "toc_cell": false,
   "toc_position": {},
   "toc_section_display": true,
   "toc_window_display": true
  },
  "vscode": {
   "interpreter": {
    "hash": "01a7be9ec63e704a62cefc5fe7a4756944464ee731be31632bdf42a4cb4688cf"
   }
  }
 },
 "nbformat": 4,
 "nbformat_minor": 5
}
